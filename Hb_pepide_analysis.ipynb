{
 "cells": [
  {
   "cell_type": "markdown",
   "id": "a747ea1c",
   "metadata": {},
   "source": [
    "# Assessing the 'Hb-likeness' of short peptides"
   ]
  },
  {
   "cell_type": "code",
   "execution_count": 2,
   "id": "10132bd9",
   "metadata": {},
   "outputs": [],
   "source": [
    "import sys, os\n",
    "from collections import Counter\n",
    "\n",
    "os.environ[\"PATH\"] += r\";C:/Users/macraild/Anaconda3/envs/ideomDB/\"\n",
    "os.environ[\"PATH\"] += r\";C:/Users/macraild/Anaconda3/envs/ideomDB/Library\\mingw-w64\\bin\"\n",
    "os.environ[\"PATH\"] += r\";C:/Users/macraild/Anaconda3/envs/ideomDB/Library\\usr\\bin\"\n",
    "os.environ[\"PATH\"] += r\";C:/Users/macraild/Anaconda3/envs/ideomDB/Library\\bin\"\n",
    "os.environ[\"PATH\"] += r\";C:/Users/macraild/Anaconda3/envs/ideomDB/Scripts\"\n",
    "\n",
    "import pandas as pd\n",
    "import numpy as np\n",
    "from scipy import stats\n",
    "from matplotlib import pyplot as plt\n",
    "\n",
    "from Bio import SeqIO "
   ]
  },
  {
   "cell_type": "code",
   "execution_count": 30,
   "id": "5dbe83d8",
   "metadata": {},
   "outputs": [],
   "source": [
    "# Set the __file__ variable for this notebook. Drop this line if converting to a module\n",
    "__file__ = os.path.join(os.path.abspath(''), 'Hb_peptide_analysis.ipynb')"
   ]
  },
  {
   "cell_type": "code",
   "execution_count": 32,
   "id": "9fe2eb15",
   "metadata": {},
   "outputs": [],
   "source": [
    "aa_formulas = {'Gly': {'C':2, 'H':5, 'N':1, 'O':2},\n",
    "               'Ala': {'C':3, 'H':7, 'N':1, 'O':2},\n",
    "               'Ser': {'C':3, 'H':7, 'N':1, 'O':3},\n",
    "               'Pro': {'C':5, 'H':9, 'N':1, 'O':2},\n",
    "               'Val': {'C':5, 'H':11, 'N':1, 'O':2},\n",
    "               'Thr': {'C':4, 'H':9, 'N':1, 'O':3},\n",
    "               'Cys': {'C':3, 'H':7, 'N':1, 'O':2, 'S':1},\n",
    "               'Leu': {'C':6, 'H':13, 'N':1, 'O':2},\n",
    "               'Ile': {'C':6, 'H':13, 'N':1, 'O':2},\n",
    "               'Asn': {'C':4, 'H':8, 'N':2, 'O':3},\n",
    "               'Asp': {'C':4, 'H':7, 'N':1, 'O':4},\n",
    "               'Gln': {'C':5, 'H':10, 'N':2, 'O':3},\n",
    "               'Lys': {'C':6, 'H':14, 'N':2, 'O':2},\n",
    "               'Glu': {'C':5, 'H':9, 'N':1, 'O':4},\n",
    "               'Met': {'C':5, 'H':11, 'N':1, 'O':2, 'S':1},\n",
    "               'His': {'C':6, 'H':9, 'N':3, 'O':2},\n",
    "               'Phe': {'C':9, 'H':11, 'N':1, 'O':2},\n",
    "               'Arg': {'C':6, 'H':14, 'N':4, 'O':2},\n",
    "               'Tyr': {'C':9, 'H':11, 'N':1, 'O':3},\n",
    "               'Trp': {'C':11, 'H':12, 'N':2, 'O':2}\n",
    "              }\n",
    "\n",
    "aa_exact_mass = {'Gly': 75.03203,\n",
    "                 'Ala': 89.04768,\n",
    "                 'Ser': 105.04259,\n",
    "                 'Pro': 115.06333,\n",
    "                 'Val': 117.07898,\n",
    "                 'Thr': 119.05824,\n",
    "                 'Cys': 121.01975,\n",
    "                 'Leu': 131.09463,\n",
    "                 'Ile': 131.09463,\n",
    "                 'Asn': 132.05349,\n",
    "                 'Asp': 133.03751,\n",
    "                 'Gln': 146.06914,\n",
    "                 'Lys': 146.10553,\n",
    "                 'Glu': 147.05316,\n",
    "                 'Met': 149.05105,\n",
    "                 'His': 155.06948,\n",
    "                 'Phe': 165.07898,\n",
    "                 'Arg': 174.11168,\n",
    "                 'Tyr': 181.07389,\n",
    "                 'Trp': 204.08988\n",
    "                }"
   ]
  },
  {
   "cell_type": "code",
   "execution_count": 33,
   "id": "6854aea3",
   "metadata": {},
   "outputs": [],
   "source": [
    "# A mapping of mass to peptide sequence, for identification of isomers:\n",
    "\n",
    "import itertools, collections\n",
    "\n",
    "aas = list(aa_exact_mass.keys())\n",
    "\n",
    "peptides_by_mass = collections.defaultdict(list)\n",
    "\n",
    "for N in [1,2,3,4,5,6]:\n",
    "    for seq in itertools.combinations_with_replacement(aas, N):\n",
    "        mass = sum([aa_exact_mass[aa] for aa in seq]) - 18.01056*(N-1)\n",
    "        peptides_by_mass[int(mass*500)/500].append('/'.join(seq))\n",
    "        "
   ]
  },
  {
   "cell_type": "code",
   "execution_count": 34,
   "id": "40e8ca86",
   "metadata": {},
   "outputs": [],
   "source": [
    "aas = \"ACDEFGHIKLMNPQRSTVWY\"\n",
    "one2three = {\"A\": \"Ala\",\n",
    "             \"C\": \"Cys\",\n",
    "             \"D\": \"Asp\",\n",
    "             \"E\": \"Glu\",\n",
    "             \"F\": \"Phe\",\n",
    "             \"G\": \"Gly\",\n",
    "             \"H\": \"His\",\n",
    "             \"I\": \"Ile\",\n",
    "             \"K\": \"Lys\",\n",
    "             \"L\": \"Leu\",\n",
    "             \"M\": \"Met\",\n",
    "             \"N\": \"Asn\",\n",
    "             \"P\": \"Pro\",\n",
    "             \"Q\": \"Gln\",\n",
    "             \"R\": \"Arg\",\n",
    "             \"S\": \"Ser\",\n",
    "             \"T\": \"Thr\",\n",
    "             \"V\": \"Val\",\n",
    "             \"W\": \"Trp\",\n",
    "             \"Y\": \"Tyr\"}\n",
    "three2one = {v:k for k,v in one2three.items()}"
   ]
  },
  {
   "cell_type": "code",
   "execution_count": 35,
   "id": "743702cd",
   "metadata": {},
   "outputs": [],
   "source": [
    "class countPepInSeq(object):\n",
    "    \"\"\"Count the number of occurances of peptides in a protein sequence.\n",
    "    \n",
    "    init with a target protein sequence, and call with pd.Series an ms1-defined 3-letter id as 'name'\n",
    "    \"\"\"\n",
    "    def __init__(self, seq):\n",
    "        self.seq = seq\n",
    "        self._sub_strings = {}\n",
    "    def _calc_sub_strings(self, length):\n",
    "        self._sub_strings[length] = [sorted(self.seq[i:i+length]) for i in range(len(self.seq)-length)]\n",
    "    def __call__(self, pep):\n",
    "        pep = pep.split('/')\n",
    "        length = len(pep)\n",
    "        if not length in self._sub_strings:\n",
    "            self._calc_sub_strings(length)\n",
    "        mass = sum([aa_exact_mass[aa] for aa in pep]) - (len(pep)-1)*18.01056\n",
    "        count = 0\n",
    "        counted = []\n",
    "        for isomer in peptides_by_mass[int(mass*500)/500]:\n",
    "            isomer = sorted(isomer.split('/'))\n",
    "            if isomer in counted:\n",
    "                continue\n",
    "            pepOneLett = [three2one[aa] for aa in isomer]\n",
    "            count += self._sub_strings[length].count(sorted(pepOneLett))\n",
    "            counted.append(isomer)\n",
    "        return count\n"
   ]
  },
  {
   "cell_type": "code",
   "execution_count": 36,
   "id": "013cfa9f",
   "metadata": {},
   "outputs": [],
   "source": [
    "class countSequencedPepInSeq(countPepInSeq):\n",
    "    \"\"\"Subclass to consider the fact that we have ms2-based sequences for a subset of peptides.\n",
    "    \n",
    "    init with a target protein sequence, and call with pd.Series with an ms2-defined 1-letter sequence \n",
    "    as 'sequence' and an ms1-defined 3-letter id as 'name'\n",
    "    \"\"\"\n",
    "    def __call__(self, pep_series):\n",
    "        count = 0\n",
    "        if pd.isna(pep_series['sequence']):\n",
    "            # No ms2 sequence, so consider all isomers of ms1 ID:\n",
    "            pep = pep_series['name']\n",
    "            pep = pep.split('/')\n",
    "            length = len(pep)\n",
    "            if not length in self._sub_strings:\n",
    "                self._calc_sub_strings(length)\n",
    "            mass = sum([aa_exact_mass[aa] for aa in pep]) - (len(pep)-1)*18.01056\n",
    "            counted = []\n",
    "            for isomer in peptides_by_mass[int(mass*500)/500]:\n",
    "                isomer = sorted(isomer.split('/'))\n",
    "                if isomer in counted:\n",
    "                    continue\n",
    "                pepOneLett = [three2one[aa] for aa in isomer]\n",
    "                count += self._sub_strings[length].count(sorted(pepOneLett))\n",
    "                counted.append(isomer)\n",
    "        else:\n",
    "            pep = pep_series['sequence']\n",
    "            length = len(pep)\n",
    "            if not length in self._sub_strings:\n",
    "                self._calc_sub_strings(length)\n",
    "            count = self._sub_strings[length].count(sorted(pep))\n",
    "        return count"
   ]
  },
  {
   "cell_type": "code",
   "execution_count": 37,
   "id": "e3b21d55",
   "metadata": {},
   "outputs": [],
   "source": [
    "# Load identified peptides:\n",
    "combined_data = pd.read_excel(os.path.join(os.path.dirname(__file__), \"comnined-analysis-v3.xlsx\"), sheet_name='Sheet3')\n",
    "\n",
    "ms2peptides = pd.read_csv(os.path.join(os.path.dirname(__file__), \"MS2_peptides.csv\"))\n",
    "ms2peptides = ms2peptides.dropna(subset=['name', 'HB'])\n",
    "ms2peptides = ms2peptides.drop(columns=['Unnamed: 3']).rename(columns={'Unnamed: 5':'sequence'})"
   ]
  },
  {
   "cell_type": "code",
   "execution_count": 38,
   "id": "084e4af0",
   "metadata": {},
   "outputs": [],
   "source": [
    "ms2peptides.loc[11,'name'] = \"Val/Ser\"\n",
    "ms2peptides.loc[16,'name'] = \"Thr/Pro\"\n",
    "ms2peptides.loc[24,'name'] = \"Ala/His\"\n",
    "ms2peptides.loc[32,'name'] = \"Asp/Val\""
   ]
  },
  {
   "cell_type": "code",
   "execution_count": 39,
   "id": "f7f23d7e",
   "metadata": {},
   "outputs": [],
   "source": [
    "combined_data = combined_data.merge(ms2peptides[['name', 'sequence', 'HB']], on='name', how='left')"
   ]
  },
  {
   "cell_type": "code",
   "execution_count": 40,
   "id": "ea90e9d8",
   "metadata": {},
   "outputs": [],
   "source": [
    "# The blood-stage Pf spectral library:\n",
    "pf_seen = pd.read_excel(os.path.join(os.path.dirname(__file__), \"Peptides_proteins.xlsx\"), sheet_name='Pf_peptide_counts')\n",
    "hs_seen = pd.read_excel(os.path.join(os.path.dirname(__file__), \"Peptides_proteins.xlsx\"), sheet_name='Hs_peptide_counts')"
   ]
  },
  {
   "cell_type": "code",
   "execution_count": 41,
   "id": "f2ff6860",
   "metadata": {},
   "outputs": [],
   "source": [
    "# Normalised peptide counts for each protein in the library:\n",
    "for protein in SeqIO.parse(os.path.join(os.path.dirname(__file__), \"PfHs_PlasmoDB-45_Pfalciparum3D7_plus_UP00005640.fasta\"), 'fasta'):\n",
    "    if protein.id.startswith('PF3D7_'):\n",
    "        acc = protein.id\n",
    "        count = combined_data.loc[(combined_data['P-VALUE inhibitor/control']<0.05)&(combined_data['P-VALUE kd/control']<0.05)].apply(countSequencedPepInSeq(protein.seq), axis=1)\n",
    "        pf_seen.loc[pf_seen.BGSInferenceId==acc, 'NormalisedPeptideCounts'] = count.sum()/len(protein.seq)\n",
    "    else:\n",
    "        if protein.id.startswith('tr|'):\n",
    "            acc = protein.id.split('|')[-1].split('_')[0]\n",
    "        elif protein.id.startswith('sp|'):\n",
    "            acc = protein.id.split('|')[1]\n",
    "        count = combined_data.loc[(combined_data['P-VALUE inhibitor/control']<0.05)&(combined_data['P-VALUE kd/control']<0.05)].apply(countSequencedPepInSeq(protein.seq), axis=1)\n",
    "        if hs_seen.BGSInferenceId.str.contains(acc).sum() > 1:\n",
    "            print(f\"Multiple matches to UniprotID {acc} from {protein.id}\")\n",
    "        hs_seen.loc[hs_seen.BGSInferenceId.str.contains(acc), 'NormalisedPeptideCounts'] = count.sum()/len(protein.seq)"
   ]
  },
  {
   "cell_type": "code",
   "execution_count": 42,
   "id": "1482010b",
   "metadata": {},
   "outputs": [
    {
     "data": {
      "image/png": "[encoded data removed]",
      "text/plain": [
       "<Figure size 432x288 with 1 Axes>"
      ]
     },
     "metadata": {
      "needs_background": "light"
     },
     "output_type": "display_data"
    }
   ],
   "source": [
    "plt.hist(pd.concat([hs_seen.NormalisedPeptideCounts, pf_seen.NormalisedPeptideCounts]), bins=100, density=True, histtype='step', label='Hs')\n",
    "for prot, pos in [('HBA',(0.55633,1.5)), ('HBB',(0.517,1.5))]:\n",
    "    plt.annotate(prot, xy=(pos[0], 0), xycoords='data', xytext=pos, textcoords='data', \n",
    "                 arrowprops={'width':2,'headwidth':2,'headlength':0.1,'ec':'red','fc':'red','alpha':0.6,'connectionstyle':'arc3'}, horizontalalignment='center')\n",
    "plt.xticks(size=14)\n",
    "plt.yticks(size=14)\n",
    "plt.xlabel(\"Normalised peptide matches\", fontdict={'size':16})\n",
    "plt.ylabel(\"Density\", fontdict={'size':16})\n",
    "plt.savefig(os.path.join(os.path.dirname(__file__), \"Hb_NormalisedPeptideCounts_MS2update.png\"))\n",
    "plt.savefig(os.path.join(os.path.dirname(__file__), \"Hb_NormalisedPeptideCounts_MS2update.svg\"))"
   ]
  },
  {
   "cell_type": "code",
   "execution_count": null,
   "id": "f3617a37",
   "metadata": {},
   "outputs": [],
   "source": []
  },
  {
   "cell_type": "code",
   "execution_count": null,
   "id": "9e61b05c",
   "metadata": {},
   "outputs": [],
   "source": []
  }
 ],
 "metadata": {
  "kernelspec": {
   "display_name": "ideomDB",
   "language": "python",
   "name": "ideomdb"
  },
  "language_info": {
   "codemirror_mode": {
    "name": "ipython",
    "version": 3
   },
   "file_extension": ".py",
   "mimetype": "text/x-python",
   "name": "python",
   "nbconvert_exporter": "python",
   "pygments_lexer": "ipython3",
   "version": "3.8.12"
  }
 },
 "nbformat": 4,
 "nbformat_minor": 5
}
